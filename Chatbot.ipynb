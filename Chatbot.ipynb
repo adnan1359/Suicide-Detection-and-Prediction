{
  "nbformat": 4,
  "nbformat_minor": 0,
  "metadata": {
    "colab": {
      "provenance": [],
      "collapsed_sections": [],
      "authorship_tag": "ABX9TyPny3pVucymYSGfrmRGfudf",
      "include_colab_link": true
    },
    "kernelspec": {
      "name": "python3",
      "display_name": "Python 3"
    },
    "language_info": {
      "name": "python"
    }
  },
  "cells": [
    {
      "cell_type": "markdown",
      "metadata": {
        "id": "view-in-github",
        "colab_type": "text"
      },
      "source": [
        "<a href=\"https://colab.research.google.com/github/adnan1359/Suicide-Detection-and-Prediction/blob/main/Chatbot.ipynb\" target=\"_parent\"><img src=\"https://colab.research.google.com/assets/colab-badge.svg\" alt=\"Open In Colab\"/></a>"
      ]
    },
    {
      "cell_type": "code",
      "execution_count": null,
      "metadata": {
        "colab": {
          "base_uri": "https://localhost:8080/"
        },
        "id": "Xlft8ym5MKM-",
        "outputId": "36d07e4f-ab06-463c-ab73-0c7557f1160d"
      },
      "outputs": [
        {
          "output_type": "stream",
          "name": "stdout",
          "text": [
            "Mounted at /content/drive\n"
          ]
        }
      ],
      "source": [
        "from google.colab import drive\n",
        "drive.mount('/content/drive', force_remount=True)"
      ]
    },
    {
      "cell_type": "code",
      "source": [
        "!pip install -qqq transformers datasets"
      ],
      "metadata": {
        "colab": {
          "base_uri": "https://localhost:8080/"
        },
        "id": "uhJA4WNXMN-K",
        "outputId": "488b56be-7406-4be7-8323-91af74774240"
      },
      "execution_count": null,
      "outputs": [
        {
          "output_type": "stream",
          "name": "stdout",
          "text": [
            "\u001b[K     |████████████████████████████████| 5.5 MB 25.5 MB/s \n",
            "\u001b[K     |████████████████████████████████| 441 kB 47.1 MB/s \n",
            "\u001b[K     |████████████████████████████████| 7.6 MB 51.0 MB/s \n",
            "\u001b[K     |████████████████████████████████| 163 kB 58.5 MB/s \n",
            "\u001b[K     |████████████████████████████████| 212 kB 48.5 MB/s \n",
            "\u001b[K     |████████████████████████████████| 95 kB 4.8 MB/s \n",
            "\u001b[K     |████████████████████████████████| 115 kB 73.3 MB/s \n",
            "\u001b[K     |████████████████████████████████| 127 kB 69.2 MB/s \n",
            "\u001b[K     |████████████████████████████████| 115 kB 66.9 MB/s \n",
            "\u001b[?25h"
          ]
        }
      ]
    },
    {
      "cell_type": "code",
      "source": [
        "import os\n",
        "import pandas as pd\n",
        "import time"
      ],
      "metadata": {
        "id": "b323G3PBMYIY"
      },
      "execution_count": null,
      "outputs": []
    },
    {
      "cell_type": "code",
      "source": [
        "try: \n",
        "    os.chdir(\"/content/drive/MyDrive/Colab Notebooks/Datasets\")\n",
        "    print(\"Directory changed\")\n",
        "except OSError:\n",
        "    print(\"Error: Can't change the Current Working Directory\")"
      ],
      "metadata": {
        "colab": {
          "base_uri": "https://localhost:8080/"
        },
        "id": "5bPHo85jMcqp",
        "outputId": "dc2febd2-5f87-4553-8b4f-22a82a89a38d"
      },
      "execution_count": null,
      "outputs": [
        {
          "output_type": "stream",
          "name": "stdout",
          "text": [
            "Directory changed\n"
          ]
        }
      ]
    },
    {
      "cell_type": "code",
      "source": [
        "def start_chatbot():\n",
        "    print(\"==== Hello! I am Harry Potter and I am your virtual friend====\")\n",
        "\n",
        "    time.sleep(2)\n",
        "    print(\"If you need a listening ear, I'm always here. \")\n",
        "    time.sleep(2)\n",
        "\n",
        "    print(\"To end the chat, input 'exit' in the chatbox. \")\n",
        "    time.sleep(2)\n",
        "\n",
        "    prevention_messages = [\"Are you okay? How long have you been feeling this way?\",\n",
        "                           \"That sounds so painful, and I appreciate you sharing that with me. How can I help?\",\n",
        "                           \"I know things seem bleak now, but it can be hard to see possible solutions when you feel so overwhelmed.\",\n",
        "                           \"I'm concerned about you because I care, and I want to offer support however I can. You can talk to me.\",\n",
        "                           \"I'm always here if you feel like talking.\",\n",
        "                           \"I'm always here to listen, but do you think a therapist could help a little more?\",\n",
        "                           \"Have you thought about talking to a therapist?\",\n",
        "                           \"You can withstand any storm and when you are too tired to stand, I will hold you up. You are never alone.\",\n",
        "                           \"You know I’m always here for you.\",\n",
        "                           \"You’re allowed to have bad days, but remember tomorrow is a brand new day.\",\n",
        "                           \"You’ve got a place here on Earth for a reason.\",\n",
        "                           \"It's okay to have such thoughts but if they become overwhelming, don't keep it to yourself. I am here for you.\",\n",
        "                           \"Everything is a season, and right now you’re in winter. It’s dark and cold and you can’t find shelter, but one day it’ll be summer, and you’ll look back and be grateful you stuck it out through winter.\",\n",
        "                           \"I know you are going through a lot and you’re scared, but you will never lose me.\",\n",
        "                           \"I know it feels like a lot right now. It’s OK to feel that way.\",\n",
        "                           \"Is there anything I can do to make this day go easier for you?\"]\n",
        "\n",
        "\n",
        "\n",
        "    helpline_message = \"\"\"\n",
        "    Our free,confidential helpline is answered by professionally trained volunteers. \n",
        "    So, whatever your concerns are, you can be rest assured that you will receive non-judgmental and non-critical listening. \n",
        "    Please note, the caller's identity is never revealed and none of our calls are recorded or shared.\n",
        "\n",
        "    AASRA - We're Here To Help.\n",
        "    91-9820466726\n",
        "    Hours :  24 hours, 7 days a week\n",
        "    Languages :  English, Hindi.\n",
        "    \"\"\"\n",
        "    for i in prevention_messages:\n",
        "        print(\"\\n Harry Potter >> \" + i)\n",
        "        message = input('You >> ')\n",
        "\n",
        "        if message.lower() == 'exit':\n",
        "            print(helpline_message)\n",
        "            break"
      ],
      "metadata": {
        "id": "BObEwMaQMmjM"
      },
      "execution_count": null,
      "outputs": []
    },
    {
      "cell_type": "code",
      "source": [
        "start_chatbot()"
      ],
      "metadata": {
        "colab": {
          "base_uri": "https://localhost:8080/"
        },
        "id": "U00vAPDeO5zA",
        "outputId": "31c53487-a5d4-4e77-f48e-9f9190ffb61f"
      },
      "execution_count": null,
      "outputs": [
        {
          "output_type": "stream",
          "name": "stdout",
          "text": [
            "==== Hello! I am Harry Potter and I am your virtual friend====\n",
            "If you need a listening ear, I'm always here. \n",
            "To end the chat, input 'exit' in the chatbox. \n",
            "\n",
            " Harry Potter >> Are you okay? How long have you been feeling this way?\n",
            "You >> jcchgcng\n",
            "\n",
            " Harry Potter >> That sounds so painful, and I appreciate you sharing that with me. How can I help?\n",
            "You >> vjh\n",
            "\n",
            " Harry Potter >> I know things seem bleak now, but it can be hard to see possible solutions when you feel so overwhelmed.\n",
            "You >> kjbjkvbj\n",
            "\n",
            " Harry Potter >> I'm concerned about you because I care, and I want to offer support however I can. You can talk to me.\n",
            "You >> exit\n",
            "\n",
            "    Our free,confidential helpline is answered by professionally trained volunteers. \n",
            "    So, whatever your concerns are, you can be rest assured that you will receive non-judgmental and non-critical listening. \n",
            "    Please note, the caller's identity is never revealed and none of our calls are recorded or shared.\n",
            "\n",
            "    AASRA - We're Here To Help.\n",
            "    91-9820466726\n",
            "    Hours :  24 hours, 7 days a week\n",
            "    Languages :  English, Hindi.\n",
            "    \n"
          ]
        }
      ]
    },
    {
      "cell_type": "code",
      "source": [
        "b"
      ],
      "metadata": {
        "id": "Qodd9CksO7_H"
      },
      "execution_count": null,
      "outputs": []
    }
  ]
}